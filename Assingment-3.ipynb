{
 "cells": [
  {
   "cell_type": "markdown",
   "id": "5cd5e0da-3cff-46da-810b-434060fba53e",
   "metadata": {},
   "source": [
    "1. Why are functions advantageous to have in your programs?\n",
    "\n",
    "ANSWER\n",
    "\n",
    "Functions reduce the need for duplicate code. This makes programs shorter, easier to read, and easier to update.\n"
   ]
  },
  {
   "cell_type": "markdown",
   "id": "891a652b-2240-48ca-b808-617bdf50b026",
   "metadata": {},
   "source": [
    "2. When does the code in a function run: when it's specified or when it's called?\n",
    "\n",
    "ANSWER\n",
    "\n",
    "The code in a function executes when the function is called, not when the function is defined.\n",
    "\n"
   ]
  },
  {
   "cell_type": "markdown",
   "id": "73495720-808b-431b-9449-0509cb8c8b3b",
   "metadata": {},
   "source": [
    "3. What statement creates a function?\n",
    "\n",
    "ANSWER\n",
    "\n",
    "The def statement defines, i.e. creates a function.\n",
    "\n"
   ]
  },
  {
   "cell_type": "markdown",
   "id": "3bfadf4e-90c5-4af5-9fe0-4ff3c1ef48fe",
   "metadata": {},
   "source": [
    "4. What is the difference between a function and a function call?\n",
    "\n",
    "ANSWER\n",
    "\n",
    "A function consists of the def statement and the code in its def clause. A function call is what moves the program execution into the function, and the function call evaluates to the function's return value."
   ]
  },
  {
   "cell_type": "markdown",
   "id": "01cb37a4-d893-465f-9255-f149d943864d",
   "metadata": {},
   "source": [
    "5. How many global scopes are there in a Python program? How many local scopes?\n",
    "\n",
    "ANSWER\n",
    "\n",
    "There is one global scope, and a local scope is created whenever a function is called."
   ]
  },
  {
   "cell_type": "markdown",
   "id": "2077ba61-a20f-443a-8204-559c1db2628d",
   "metadata": {},
   "source": [
    "6. What happens to variables in a local scope when the function call returns?\n",
    "\n",
    "ANSWER\n",
    "\n",
    "When a function call returns, the variables defined in its local scope are no longer accessible and their memory is released by the program. However, if a variable is defined as a global variable, it will retain its value even after the function call returns. Additionally, if a variable from the local scope is passed as an argument to another function, its value may be retained in that function's scope.\n",
    "\n"
   ]
  },
  {
   "cell_type": "markdown",
   "id": "482f109f-e6a4-4a5b-ac41-6a5928e58e2d",
   "metadata": {},
   "source": [
    "7. What is the concept of a return value? Is it possible to have a return value in an expression?\n",
    "\n",
    "ANSWER\n",
    "\n",
    "A return value is the value that a function call evaluates to. Like any value, a return value can be used as part of an expression.\n",
    "\n"
   ]
  },
  {
   "cell_type": "markdown",
   "id": "ad6d8e7c-dbbf-4c5d-beef-928bcdd9b11d",
   "metadata": {},
   "source": [
    "8. If a function does not have a return statement, what is the return value of a call to that function?\n",
    "\n",
    "ANSWER\n",
    "\n",
    "If there is no return statement for a function, its return value is None.\n",
    "\n"
   ]
  },
  {
   "cell_type": "markdown",
   "id": "6224b7a9-8865-460c-b764-5a6b9c0d54ed",
   "metadata": {},
   "source": [
    "9. How do you make a function variable refer to the global variable?\n",
    "\n",
    "ANSWER\n",
    "\n",
    "A global statement will force a variable in a function to refer to the global variable.\n",
    "\n"
   ]
  },
  {
   "cell_type": "markdown",
   "id": "96b79f97-4a64-4675-bdd8-6cfdf8c80a79",
   "metadata": {},
   "source": [
    "10. What is the data type of None?\n",
    "\n",
    "ANSWER\n",
    "\n",
    "The data type of None is NoneType."
   ]
  },
  {
   "cell_type": "markdown",
   "id": "192a28fb-4303-46e8-9e4d-e241d99f6534",
   "metadata": {},
   "source": [
    "11. What does the sentence import areallyourpetsnamederic do?\n",
    "\n",
    "ANSWER\n",
    "\n",
    "That import statement imports a module named areallyourpetsnamederic.\n",
    "\n"
   ]
  },
  {
   "cell_type": "markdown",
   "id": "9953a3b7-a584-47b2-bcc1-b8ab2578588d",
   "metadata": {},
   "source": [
    "12. If you had a bacon() feature in a spam module, what would you call it after importing spam?\n",
    "\n",
    "ANSWER\n",
    "\n",
    "This function can be called with spam.bacon().\n",
    "\n"
   ]
  },
  {
   "cell_type": "markdown",
   "id": "f4ce863a-bce5-4d75-a9b5-8e05746c0444",
   "metadata": {},
   "source": [
    "13. What can you do to save a programme from crashing if it encounters an error?\n",
    "\n",
    "ANSWER\n",
    "\n",
    "Place the line of code that might cause an error in a try clause.\n"
   ]
  },
  {
   "cell_type": "markdown",
   "id": "8b411658-4131-4135-9039-ac8e78bd6d06",
   "metadata": {},
   "source": [
    "14. What is the purpose of the try clause? What is the purpose of the except clause?\n",
    "\n",
    "ANSWER\n",
    "\n",
    "* The code that could potentially cause an error goes in the try clause.\n",
    "* The code that executes if an error happens goes in the except clause."
   ]
  },
  {
   "cell_type": "code",
   "execution_count": null,
   "id": "04d176d8-8a8d-48d9-ac98-870b9f8c03d3",
   "metadata": {},
   "outputs": [],
   "source": []
  }
 ],
 "metadata": {
  "kernelspec": {
   "display_name": "Python 3 (ipykernel)",
   "language": "python",
   "name": "python3"
  },
  "language_info": {
   "codemirror_mode": {
    "name": "ipython",
    "version": 3
   },
   "file_extension": ".py",
   "mimetype": "text/x-python",
   "name": "python",
   "nbconvert_exporter": "python",
   "pygments_lexer": "ipython3",
   "version": "3.10.6"
  }
 },
 "nbformat": 4,
 "nbformat_minor": 5
}
